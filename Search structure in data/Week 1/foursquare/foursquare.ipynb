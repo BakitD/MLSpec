{
 "cells": [
  {
   "cell_type": "code",
   "execution_count": 1,
   "metadata": {},
   "outputs": [],
   "source": [
    "SHOULD_BE_LINES = 396634\n",
    "\n",
    "def transformToCSV():\n",
    "    data = []\n",
    "    with open('checkins.dat', 'r') as f:\n",
    "        head = ','.join([x.strip() for x in f.readline().split('|')]) + '\\n'\n",
    "        f.readline()\n",
    "        for line in f.readlines():\n",
    "            formatted = [x.strip() for x in line.split('|')]\n",
    "            if len(formatted) == 6 and formatted[3] and formatted[4]:\n",
    "                data.append(','.join(formatted) + '\\n')\n",
    "    return head, data\n",
    "\n",
    "def createToCSV(head, data):\n",
    "    with open('checkins.csv', 'w') as inp:\n",
    "        inp.write(head)\n",
    "        inp.writelines(data)\n",
    "        inp.close()\n",
    "\n",
    "\n",
    "head, data = transformToCSV()\n",
    "assert(len(data) == 396634)\n",
    "\n",
    "createToCSV(head, data)\n"
   ]
  },
  {
   "cell_type": "code",
   "execution_count": 10,
   "metadata": {
    "scrolled": true
   },
   "outputs": [
    {
     "data": {
      "text/plain": [
       "(100000, 2)"
      ]
     },
     "execution_count": 10,
     "metadata": {},
     "output_type": "execute_result"
    }
   ],
   "source": [
    "import pandas as pd\n",
    "import numpy as np\n",
    "from pandas.compat import StringIO\n",
    "\n",
    "from sklearn.cluster import MeanShift\n",
    "\n",
    "data = pd.read_csv('checkins.csv')\n",
    "data.shape\n",
    "\n",
    "X = data.iloc[:100000,3:5]\n",
    "\n",
    "X.shape\n"
   ]
  },
  {
   "cell_type": "code",
   "execution_count": 11,
   "metadata": {},
   "outputs": [
    {
     "data": {
      "text/plain": [
       "MeanShift(bandwidth=0.1, bin_seeding=False, cluster_all=True, min_bin_freq=1,\n",
       "     n_jobs=1, seeds=None)"
      ]
     },
     "execution_count": 11,
     "metadata": {},
     "output_type": "execute_result"
    }
   ],
   "source": [
    "mshift = MeanShift(bandwidth=0.1)\n",
    "mshift.fit(X)"
   ]
  },
  {
   "cell_type": "code",
   "execution_count": 15,
   "metadata": {},
   "outputs": [],
   "source": [
    "labels = mshift.labels_\n",
    "centers = mshift.cluster_centers_"
   ]
  },
  {
   "cell_type": "code",
   "execution_count": 23,
   "metadata": {},
   "outputs": [],
   "source": [
    "offices = [\n",
    "(33.751277, -118.188740),\n",
    "(25.867736, -80.324116),\n",
    "(51.503016, -0.075479),\n",
    "(52.378894, 4.885084),\n",
    "(39.366487, 117.036146),\n",
    "(-33.868457, 151.205134)]"
   ]
  },
  {
   "cell_type": "code",
   "execution_count": 24,
   "metadata": {},
   "outputs": [],
   "source": [
    "distances = []\n",
    "\n",
    "for o in offices:\n",
    "    for c in centers:\n",
    "        distance = (o[0] - c[0]) ** 2 + (o[1] - c[1]) ** 2\n",
    "        distances.append((distance, o, c))\n",
    "        "
   ]
  },
  {
   "cell_type": "code",
   "execution_count": 31,
   "metadata": {},
   "outputs": [],
   "source": [
    "sorted_distances = sorted(distances, key=lambda x: x[0])"
   ]
  },
  {
   "cell_type": "code",
   "execution_count": 35,
   "metadata": {},
   "outputs": [],
   "source": [
    "nearest = sorted_distances[:20]"
   ]
  },
  {
   "cell_type": "code",
   "execution_count": 33,
   "metadata": {},
   "outputs": [],
   "source": [
    "with open('1.txt', 'w') as f:\n",
    "    f.write('{} {}'.format(sorted_distances[0][2][0], sorted_distances[0][2][1]))"
   ]
  },
  {
   "cell_type": "code",
   "execution_count": 36,
   "metadata": {},
   "outputs": [
    {
     "data": {
      "text/plain": [
       "(6.138343547438518e-05,\n",
       " (-33.868457, 151.205134),\n",
       " array([-33.86063043, 151.20477593]))"
      ]
     },
     "execution_count": 36,
     "metadata": {},
     "output_type": "execute_result"
    }
   ],
   "source": [
    "nearest[0]"
   ]
  },
  {
   "cell_type": "code",
   "execution_count": null,
   "metadata": {},
   "outputs": [],
   "source": []
  }
 ],
 "metadata": {
  "kernelspec": {
   "display_name": "Python 3",
   "language": "python",
   "name": "python3"
  },
  "language_info": {
   "codemirror_mode": {
    "name": "ipython",
    "version": 3
   },
   "file_extension": ".py",
   "mimetype": "text/x-python",
   "name": "python",
   "nbconvert_exporter": "python",
   "pygments_lexer": "ipython3",
   "version": "3.6.4"
  }
 },
 "nbformat": 4,
 "nbformat_minor": 2
}
